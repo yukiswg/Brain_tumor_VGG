{
 "cells": [
  {
   "cell_type": "code",
   "execution_count": 21,
   "id": "4ff31355-c24a-4106-86b6-cae4421a2d9b",
   "metadata": {},
   "outputs": [],
   "source": [
    "import tensorflow as tf # 搭建神经网络\n",
    "from tensorflow import keras #搭建神经网络\n",
    "import matplotlib.pyplot as plt # 画图\n",
    "import numpy as np # = matlab\n",
    "import os # 路径处理\n",
    "import cv2 # 计算机视觉库\n",
    "from sklearn.model_selection import train_test_split # 训练集和测试集的分割"
   ]
  },
  {
   "cell_type": "code",
   "execution_count": 22,
   "id": "706a0ae5-ef0e-4747-9b81-4ff844888630",
   "metadata": {},
   "outputs": [],
   "source": [
    "train_tumor_path = 'Brain tumor/yes/' # tumor 路径，yes：有肿瘤\n",
    "train_no_tumor_path = 'Brain tumor/no/' #no tumor 路径，no：无肿瘤"
   ]
  },
  {
   "cell_type": "code",
   "execution_count": 23,
   "id": "2752d7cf-821f-4bc1-92df-8062b6734799",
   "metadata": {},
   "outputs": [],
   "source": [
    "train_img = [] #存储训练图像"
   ]
  },
  {
   "cell_type": "code",
   "execution_count": 24,
   "id": "aef8a1f4-4002-4d2b-af73-67023d37e025",
   "metadata": {},
   "outputs": [],
   "source": [
    "# 前1500张是tumor类型\n",
    "for i in os.listdir(train_tumor_path):\n",
    "    read_img_path = train_tumor_path+i\n",
    "    read_img = cv2.imread(read_img_path) #输入图像名称，读取图像并转化成像素值\n",
    "    read_img = cv2.resize(read_img,(156,156)) #修改图像尺寸，156×156\n",
    "    train_img.append(read_img)"
   ]
  },
  {
   "cell_type": "code",
   "execution_count": 25,
   "id": "89854407-9aed-4007-bce9-dfbad6c2cd45",
   "metadata": {},
   "outputs": [],
   "source": [
    "# 后1500张是非tumor\n",
    "for i in os.listdir(train_no_tumor_path):\n",
    "    read_img_path = train_no_tumor_path+i\n",
    "    read_img = cv2.imread(read_img_path)\n",
    "    read_img = cv2.resize(read_img,(156,156))\n",
    "    train_img.append(read_img)"
   ]
  },
  {
   "cell_type": "code",
   "execution_count": 26,
   "id": "7e1889a3-6930-4836-ae69-1443b1a8530e",
   "metadata": {},
   "outputs": [],
   "source": [
    "train_img = np.array(train_img)"
   ]
  },
  {
   "cell_type": "code",
   "execution_count": 27,
   "id": "2d68c46e-86a0-453d-82e0-a0990037b81d",
   "metadata": {},
   "outputs": [
    {
     "data": {
      "text/plain": [
       "(156, 156, 3)"
      ]
     },
     "execution_count": 27,
     "metadata": {},
     "output_type": "execute_result"
    }
   ],
   "source": [
    "train_img[0].shape"
   ]
  },
  {
   "cell_type": "code",
   "execution_count": 28,
   "id": "ff906967-0435-4222-b995-0ac73e44d838",
   "metadata": {},
   "outputs": [],
   "source": [
    "# o定义为tumor，1定义非tumor, y\n",
    "y_label = np.array([0]*1500+[1]*1500)"
   ]
  },
  {
   "cell_type": "code",
   "execution_count": 29,
   "id": "5a35f136-cac9-4f39-80d3-d8431383c01b",
   "metadata": {},
   "outputs": [],
   "source": [
    "train_img,test_img, train_label, test_label = train_test_split(train_img,y_label,test_size=0.2,random_state=0) # 20%为测试集，80%为训练集"
   ]
  },
  {
   "cell_type": "code",
   "execution_count": 30,
   "id": "cf10f36d-2b03-4e0e-b24a-db6848770929",
   "metadata": {},
   "outputs": [],
   "source": [
    "x_train_normalize = train_img/255 #归一化，增加训练时的优化速度"
   ]
  },
  {
   "cell_type": "code",
   "execution_count": 31,
   "id": "3c91b0b1-2fb1-4539-b4b8-0727233dae93",
   "metadata": {},
   "outputs": [],
   "source": [
    "x_test_normalize = test_img/255 #归一化"
   ]
  },
  {
   "cell_type": "code",
   "execution_count": 39,
   "id": "b2818273-3981-47b7-9429-e3aebae23537",
   "metadata": {},
   "outputs": [
    {
     "name": "stdout",
     "output_type": "stream",
     "text": [
      "Downloading data from https://storage.googleapis.com/tensorflow/keras-applications/vgg16/vgg16_weights_tf_dim_ordering_tf_kernels_notop.h5\n",
      "58892288/58889256 [==============================] - 152s 3us/step\n",
      "58900480/58889256 [==============================] - 152s 3us/step\n"
     ]
    }
   ],
   "source": [
    "#CNN：小，MobileNet属于中，VGG-16：大\n",
    "base_model=tf.keras.applications.VGG16(input_shape=(156,156,3),include_top=False, weights='imagenet') # include_top:包不包含最后一层, VGG_16, MobileNet"
   ]
  },
  {
   "cell_type": "code",
   "execution_count": 40,
   "id": "b5bc9618-6e89-4dfa-9508-b65123a7aff5",
   "metadata": {},
   "outputs": [],
   "source": [
    "global_average_layer = tf.keras.layers.Flatten()\n",
    "prediction_layer = tf.keras.layers.Dense(1,activation='sigmoid')"
   ]
  },
  {
   "cell_type": "code",
   "execution_count": 41,
   "id": "000e58b6-e0d2-44e0-b6b1-27eb21ea719d",
   "metadata": {},
   "outputs": [],
   "source": [
    "model = tf.keras.Sequential([base_model, global_average_layer, prediction_layer])"
   ]
  },
  {
   "cell_type": "code",
   "execution_count": 42,
   "id": "bad20bd9-1abb-45ac-9b88-01561082e380",
   "metadata": {},
   "outputs": [
    {
     "name": "stdout",
     "output_type": "stream",
     "text": [
      "Model: \"sequential_2\"\n",
      "_________________________________________________________________\n",
      " Layer (type)                Output Shape              Param #   \n",
      "=================================================================\n",
      " vgg16 (Functional)          (None, 4, 4, 512)         14714688  \n",
      "                                                                 \n",
      " flatten_2 (Flatten)         (None, 8192)              0         \n",
      "                                                                 \n",
      " dense_2 (Dense)             (None, 1)                 8193      \n",
      "                                                                 \n",
      "=================================================================\n",
      "Total params: 14,722,881\n",
      "Trainable params: 14,722,881\n",
      "Non-trainable params: 0\n",
      "_________________________________________________________________\n"
     ]
    }
   ],
   "source": [
    "model.summary()"
   ]
  },
  {
   "cell_type": "code",
   "execution_count": 43,
   "id": "efdb5ed8-f421-4676-aa3f-2623ea071dbd",
   "metadata": {},
   "outputs": [],
   "source": [
    "model.compile(loss='binary_crossentropy',optimizer='adam',metrics=['accuracy']) # 损失函数是binary_crossentropy, 优化器是adam，评价指标是accuracy"
   ]
  },
  {
   "cell_type": "code",
   "execution_count": 44,
   "id": "d8c11cec-0057-4135-a6ae-eaa3339ee687",
   "metadata": {
    "scrolled": true
   },
   "outputs": [
    {
     "name": "stdout",
     "output_type": "stream",
     "text": [
      "Epoch 1/30\n",
      "240/240 [==============================] - 8s 29ms/step - loss: 0.6405 - accuracy: 0.6633 - val_loss: 0.5329 - val_accuracy: 0.7333\n",
      "Epoch 2/30\n",
      "240/240 [==============================] - 6s 27ms/step - loss: 0.4647 - accuracy: 0.7750 - val_loss: 0.3668 - val_accuracy: 0.8300\n",
      "Epoch 3/30\n",
      "240/240 [==============================] - 7s 28ms/step - loss: 0.4204 - accuracy: 0.8058 - val_loss: 0.3362 - val_accuracy: 0.8583\n",
      "Epoch 4/30\n",
      "240/240 [==============================] - 7s 28ms/step - loss: 0.4975 - accuracy: 0.7992 - val_loss: 0.3515 - val_accuracy: 0.8533\n",
      "Epoch 5/30\n",
      "240/240 [==============================] - 6s 27ms/step - loss: 0.3220 - accuracy: 0.8629 - val_loss: 0.2869 - val_accuracy: 0.8750\n",
      "Epoch 6/30\n",
      "240/240 [==============================] - 6s 27ms/step - loss: 0.2620 - accuracy: 0.8967 - val_loss: 0.2702 - val_accuracy: 0.8867\n",
      "Epoch 7/30\n",
      "240/240 [==============================] - 6s 27ms/step - loss: 0.2134 - accuracy: 0.9221 - val_loss: 0.3185 - val_accuracy: 0.8833\n",
      "Epoch 8/30\n",
      "240/240 [==============================] - 7s 27ms/step - loss: 0.1988 - accuracy: 0.9254 - val_loss: 0.4232 - val_accuracy: 0.8400\n",
      "Epoch 9/30\n",
      "240/240 [==============================] - 7s 27ms/step - loss: 0.1494 - accuracy: 0.9450 - val_loss: 0.2009 - val_accuracy: 0.9317\n",
      "Epoch 10/30\n",
      "240/240 [==============================] - 7s 27ms/step - loss: 0.1339 - accuracy: 0.9492 - val_loss: 0.1566 - val_accuracy: 0.9467\n",
      "Epoch 11/30\n",
      "240/240 [==============================] - 6s 27ms/step - loss: 0.1031 - accuracy: 0.9633 - val_loss: 0.1695 - val_accuracy: 0.9517\n",
      "Epoch 12/30\n",
      "240/240 [==============================] - 6s 27ms/step - loss: 0.1155 - accuracy: 0.9642 - val_loss: 0.2165 - val_accuracy: 0.9283\n",
      "Epoch 13/30\n",
      "240/240 [==============================] - 6s 27ms/step - loss: 0.0718 - accuracy: 0.9746 - val_loss: 0.1567 - val_accuracy: 0.9533\n",
      "Epoch 14/30\n",
      "240/240 [==============================] - 6s 27ms/step - loss: 0.0504 - accuracy: 0.9812 - val_loss: 0.2354 - val_accuracy: 0.9383\n",
      "Epoch 15/30\n",
      "240/240 [==============================] - 6s 26ms/step - loss: 0.0877 - accuracy: 0.9658 - val_loss: 0.2457 - val_accuracy: 0.9400\n",
      "Epoch 16/30\n",
      "240/240 [==============================] - 6s 27ms/step - loss: 0.0715 - accuracy: 0.9758 - val_loss: 0.2396 - val_accuracy: 0.9517\n",
      "Epoch 17/30\n",
      "240/240 [==============================] - 7s 27ms/step - loss: 0.0970 - accuracy: 0.9742 - val_loss: 0.1499 - val_accuracy: 0.9567\n",
      "Epoch 18/30\n",
      "240/240 [==============================] - 7s 27ms/step - loss: 0.0419 - accuracy: 0.9854 - val_loss: 0.1659 - val_accuracy: 0.9583\n",
      "Epoch 19/30\n",
      "240/240 [==============================] - 6s 27ms/step - loss: 0.0175 - accuracy: 0.9946 - val_loss: 0.2293 - val_accuracy: 0.9683\n",
      "Epoch 20/30\n",
      "240/240 [==============================] - 6s 27ms/step - loss: 0.0352 - accuracy: 0.9875 - val_loss: 0.1988 - val_accuracy: 0.9467\n",
      "Epoch 21/30\n",
      "240/240 [==============================] - 6s 27ms/step - loss: 0.0625 - accuracy: 0.9787 - val_loss: 0.1742 - val_accuracy: 0.9400\n",
      "Epoch 22/30\n",
      "240/240 [==============================] - 6s 26ms/step - loss: 0.4296 - accuracy: 0.8817 - val_loss: 0.2121 - val_accuracy: 0.9117\n",
      "Epoch 23/30\n",
      "240/240 [==============================] - 7s 27ms/step - loss: 0.1448 - accuracy: 0.9421 - val_loss: 0.1594 - val_accuracy: 0.9583\n",
      "Epoch 24/30\n",
      "240/240 [==============================] - 6s 27ms/step - loss: 0.0567 - accuracy: 0.9787 - val_loss: 0.1458 - val_accuracy: 0.9633\n",
      "Epoch 25/30\n",
      "240/240 [==============================] - 6s 27ms/step - loss: 0.0225 - accuracy: 0.9904 - val_loss: 0.3928 - val_accuracy: 0.9400\n",
      "Epoch 26/30\n",
      "240/240 [==============================] - 6s 26ms/step - loss: 0.0636 - accuracy: 0.9837 - val_loss: 0.1824 - val_accuracy: 0.9483\n",
      "Epoch 27/30\n",
      "240/240 [==============================] - 6s 26ms/step - loss: 0.0156 - accuracy: 0.9950 - val_loss: 0.2349 - val_accuracy: 0.9400\n",
      "Epoch 28/30\n",
      "240/240 [==============================] - 6s 27ms/step - loss: 0.0335 - accuracy: 0.9879 - val_loss: 0.2005 - val_accuracy: 0.9300\n",
      "Epoch 29/30\n",
      "240/240 [==============================] - 6s 26ms/step - loss: 0.0165 - accuracy: 0.9942 - val_loss: 0.2726 - val_accuracy: 0.9433\n",
      "Epoch 30/30\n",
      "240/240 [==============================] - 6s 27ms/step - loss: 0.0237 - accuracy: 0.9917 - val_loss: 0.1592 - val_accuracy: 0.9633\n"
     ]
    }
   ],
   "source": [
    "history=model.fit(x=x_train_normalize,y=train_label,validation_data=(x_test_normalize,test_label),epochs=30,batch_size=10,verbose=1) #前面是训练集的损失值和准确率，后面是验证集"
   ]
  },
  {
   "cell_type": "code",
   "execution_count": 45,
   "id": "b869bd27-a29c-4410-a044-f769bcf80dd5",
   "metadata": {},
   "outputs": [
    {
     "data": {
      "text/plain": [
       "{'loss': [0.6405011415481567,\n",
       "  0.4647345542907715,\n",
       "  0.42043206095695496,\n",
       "  0.49750620126724243,\n",
       "  0.3219778537750244,\n",
       "  0.26199695467948914,\n",
       "  0.21344700455665588,\n",
       "  0.1988191157579422,\n",
       "  0.1493545025587082,\n",
       "  0.13386912643909454,\n",
       "  0.10306694358587265,\n",
       "  0.11549839377403259,\n",
       "  0.07182145863771439,\n",
       "  0.05042920261621475,\n",
       "  0.0876796692609787,\n",
       "  0.07154861092567444,\n",
       "  0.0969589576125145,\n",
       "  0.041948139667510986,\n",
       "  0.017529623582959175,\n",
       "  0.0351596362888813,\n",
       "  0.06251060217618942,\n",
       "  0.4296039342880249,\n",
       "  0.14477714896202087,\n",
       "  0.056728821247816086,\n",
       "  0.022486070170998573,\n",
       "  0.06364139169454575,\n",
       "  0.015562755055725574,\n",
       "  0.03347798064351082,\n",
       "  0.01649499498307705,\n",
       "  0.02369002252817154],\n",
       " 'accuracy': [0.6633333563804626,\n",
       "  0.7749999761581421,\n",
       "  0.8058333396911621,\n",
       "  0.7991666793823242,\n",
       "  0.8629166483879089,\n",
       "  0.8966666460037231,\n",
       "  0.92208331823349,\n",
       "  0.9254166483879089,\n",
       "  0.9449999928474426,\n",
       "  0.9491666555404663,\n",
       "  0.9633333086967468,\n",
       "  0.9641666412353516,\n",
       "  0.9745833277702332,\n",
       "  0.981249988079071,\n",
       "  0.965833306312561,\n",
       "  0.9758333563804626,\n",
       "  0.9741666913032532,\n",
       "  0.9854166507720947,\n",
       "  0.9945833086967468,\n",
       "  0.987500011920929,\n",
       "  0.9787499904632568,\n",
       "  0.8816666603088379,\n",
       "  0.9420833587646484,\n",
       "  0.9787499904632568,\n",
       "  0.9904166460037231,\n",
       "  0.9837499856948853,\n",
       "  0.9950000047683716,\n",
       "  0.9879166483879089,\n",
       "  0.9941666722297668,\n",
       "  0.9916666746139526],\n",
       " 'val_loss': [0.5329206585884094,\n",
       "  0.36676672101020813,\n",
       "  0.3361888527870178,\n",
       "  0.3514566123485565,\n",
       "  0.2868572175502777,\n",
       "  0.2702415883541107,\n",
       "  0.31850695610046387,\n",
       "  0.4231942892074585,\n",
       "  0.2009221464395523,\n",
       "  0.15662789344787598,\n",
       "  0.16945664584636688,\n",
       "  0.21652251482009888,\n",
       "  0.1566902995109558,\n",
       "  0.23537831008434296,\n",
       "  0.24573928117752075,\n",
       "  0.2396007478237152,\n",
       "  0.14988145232200623,\n",
       "  0.16589832305908203,\n",
       "  0.2292788177728653,\n",
       "  0.1987992525100708,\n",
       "  0.1741529256105423,\n",
       "  0.2120591104030609,\n",
       "  0.15940016508102417,\n",
       "  0.14579641819000244,\n",
       "  0.3927779495716095,\n",
       "  0.18235638737678528,\n",
       "  0.23491162061691284,\n",
       "  0.20054487884044647,\n",
       "  0.2726157009601593,\n",
       "  0.15921075642108917],\n",
       " 'val_accuracy': [0.7333333492279053,\n",
       "  0.8299999833106995,\n",
       "  0.8583333492279053,\n",
       "  0.8533333539962769,\n",
       "  0.875,\n",
       "  0.8866666555404663,\n",
       "  0.8833333253860474,\n",
       "  0.8399999737739563,\n",
       "  0.9316666722297668,\n",
       "  0.9466666579246521,\n",
       "  0.9516666531562805,\n",
       "  0.9283333420753479,\n",
       "  0.95333331823349,\n",
       "  0.9383333325386047,\n",
       "  0.9399999976158142,\n",
       "  0.9516666531562805,\n",
       "  0.9566666483879089,\n",
       "  0.9583333134651184,\n",
       "  0.9683333039283752,\n",
       "  0.9466666579246521,\n",
       "  0.9399999976158142,\n",
       "  0.9116666913032532,\n",
       "  0.9583333134651184,\n",
       "  0.9633333086967468,\n",
       "  0.9399999976158142,\n",
       "  0.9483333230018616,\n",
       "  0.9399999976158142,\n",
       "  0.9300000071525574,\n",
       "  0.9433333277702332,\n",
       "  0.9633333086967468]}"
      ]
     },
     "execution_count": 45,
     "metadata": {},
     "output_type": "execute_result"
    }
   ],
   "source": [
    "history.history"
   ]
  },
  {
   "cell_type": "code",
   "execution_count": 46,
   "id": "1d00bb49-9677-4a31-b972-8eb7a9a6091e",
   "metadata": {},
   "outputs": [
    {
     "data": {
      "text/plain": [
       "<matplotlib.legend.Legend at 0x7f45365cccd0>"
      ]
     },
     "execution_count": 46,
     "metadata": {},
     "output_type": "execute_result"
    },
    {
     "data": {
      "image/png": "[encoded data removed]",
      "text/plain": [
       "<Figure size 432x288 with 1 Axes>"
      ]
     },
     "metadata": {
      "needs_background": "light"
     },
     "output_type": "display_data"
    }
   ],
   "source": [
    "plt.plot(history.history['accuracy'])\n",
    "plt.plot(history.history['val_accuracy'])\n",
    "plt.title('Accuray for training and validation')\n",
    "plt.xlabel('epoch')\n",
    "plt.ylabel('accuracy')\n",
    "plt.legend(['train','validation'],loc='upper left')"
   ]
  },
  {
   "cell_type": "code",
   "execution_count": 47,
   "id": "0f506ad1-af2e-4e08-ae9a-b6a9cb5336f3",
   "metadata": {},
   "outputs": [
    {
     "data": {
      "text/plain": [
       "<matplotlib.legend.Legend at 0x7f45364e6580>"
      ]
     },
     "execution_count": 47,
     "metadata": {},
     "output_type": "execute_result"
    },
    {
     "data": {
      "image/png": "[encoded data removed]",
      "text/plain": [
       "<Figure size 432x288 with 1 Axes>"
      ]
     },
     "metadata": {
      "needs_background": "light"
     },
     "output_type": "display_data"
    }
   ],
   "source": [
    "plt.plot(history.history['loss'])\n",
    "plt.plot(history.history['val_loss'])\n",
    "plt.title('Loss for training and validation')\n",
    "plt.xlabel('epoch')\n",
    "plt.ylabel('loss')\n",
    "plt.legend(['train','validation'],loc='upper left')"
   ]
  }
 ],
 "metadata": {
  "kernelspec": {
   "display_name": "Python 3 (ipykernel)",
   "language": "python",
   "name": "python3"
  },
  "language_info": {
   "codemirror_mode": {
    "name": "ipython",
    "version": 3
   },
   "file_extension": ".py",
   "mimetype": "text/x-python",
   "name": "python",
   "nbconvert_exporter": "python",
   "pygments_lexer": "ipython3",
   "version": "3.8.10"
  }
 },
 "nbformat": 4,
 "nbformat_minor": 5
}
